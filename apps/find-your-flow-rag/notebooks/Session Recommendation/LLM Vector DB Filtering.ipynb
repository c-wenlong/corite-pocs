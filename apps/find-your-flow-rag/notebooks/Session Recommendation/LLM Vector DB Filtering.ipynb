{
 "cells": [
  {
   "cell_type": "markdown",
   "metadata": {},
   "source": [
    "LLM takes in user data & recommends \"sessions\" to the users -> pass into vector database to fetch real sessions. We first initialise our API Keys."
   ]
  },
  {
   "cell_type": "code",
   "execution_count": 1,
   "metadata": {},
   "outputs": [
    {
     "data": {
      "text/plain": [
       "True"
      ]
     },
     "execution_count": 1,
     "metadata": {},
     "output_type": "execute_result"
    }
   ],
   "source": [
    "import os\n",
    "from dotenv import load_dotenv\n",
    "\n",
    "load_dotenv()"
   ]
  },
  {
   "cell_type": "markdown",
   "metadata": {},
   "source": [
    "Then, we will initialise our vector DB client, the first query will take about 20 seconds as there will be authentication, subsequent queries will be much shorter."
   ]
  },
  {
   "cell_type": "code",
   "execution_count": 19,
   "metadata": {},
   "outputs": [
    {
     "name": "stdout",
     "output_type": "stream",
     "text": [
      "collections=[CollectionDescription(name='aflow_sessions')]\n"
     ]
    }
   ],
   "source": [
    "from qdrant_client import QdrantClient, models\n",
    "\n",
    "QDRANT_URL=os.getenv(\"QDRANT_URL\")\n",
    "QDRANT_API_KEY=os.getenv(\"QDRANT_API_KEY\")\n",
    "COLLECTION_NAME=os.getenv(\"COLLECTION_NAME\")\n",
    "\n",
    "qdrant_client = QdrantClient(\n",
    "\turl=QDRANT_URL, \n",
    "\tapi_key=QDRANT_API_KEY,\n",
    ")\n",
    "\n",
    "print(qdrant_client.get_collections())"
   ]
  },
  {
   "cell_type": "markdown",
   "metadata": {},
   "source": [
    "Now, we create a method to embed the artist's profile and a fetch method to fetch the data."
   ]
  },
  {
   "cell_type": "code",
   "execution_count": 10,
   "metadata": {},
   "outputs": [],
   "source": [
    "from openai import OpenAI\n",
    "openai_client = OpenAI()\n",
    "openai_client.api_key=os.getenv(\"OPENAI_API_KEY\")\n",
    "\n",
    "EMBEDDING_MODEL=os.getenv(\"EMBEDDING_MODEL\")\n",
    "CHAT_MODEL=os.getenv(\"CHAT_MODEL\")"
   ]
  },
  {
   "cell_type": "code",
   "execution_count": 11,
   "metadata": {},
   "outputs": [],
   "source": [
    "def text_to_embedding(text):\n",
    "    embeddings = openai_client.embeddings.create(\n",
    "        model=EMBEDDING_MODEL,\n",
    "        input=text,\n",
    "        encoding_format=\"float\"\n",
    "    )\n",
    "    return embeddings.data[0].embedding\n",
    "\n",
    "def fetch_recommended_sessions(artist_profile, collection_name=COLLECTION_NAME, limit=5):\n",
    "    artist_embedding = text_to_embedding(artist_profile)\n",
    "    similar_sessions = qdrant_client.search(\n",
    "        collection_name=collection_name,\n",
    "        query_vector=artist_embedding,\n",
    "        limit=limit\n",
    "    )\n",
    "    return [session.payload[\"session_name\"] for session in similar_sessions]\n",
    "\n",
    "def get_all_session_similarities(collection_name=COLLECTION_NAME):\n",
    "    all_sessions = qdrant_client.search(\n",
    "        collection_name=collection_name,\n",
    "        query_vector=[],\n",
    "        limit=1000\n",
    "    )\n",
    "    return [(session.payload['id'], session.score) for session in all_sessions]\n",
    "\n"
   ]
  },
  {
   "cell_type": "markdown",
   "metadata": {},
   "source": [
    "Now lets test the accuracy of these queries. First, we upload the session metadata as embeddings into our vector database."
   ]
  },
  {
   "cell_type": "code",
   "execution_count": 16,
   "metadata": {},
   "outputs": [
    {
     "name": "stdout",
     "output_type": "stream",
     "text": [
      "{'id': 8, 'category': 'Content Creation', 'keywords': ['bio writing', 'artist profile', 'brand messaging', 'Spotify optimization', 'audience engagement', 'platform optimization', 'content strategy'], 'summary': 'Generate an engaging, algorithm-friendly Spotify biography in under 30 minutes. Delivers a polished bio that connects with fans while boosting visibility on the platform.', 'intended_target_audience': {'demographic': 'Independent Artist', 'interests': ['platform optimization', 'brand development', 'fan engagement', 'discoverability'], 'preferences': ['quick execution', 'guided process']}}\n"
     ]
    }
   ],
   "source": [
    "import json\n",
    "from pathlib import Path\n",
    "\n",
    "DEFAULT_PATH = '../../assets/datasets/session_list_070125.json'\n",
    "\n",
    "def read_json(file_path=Path(DEFAULT_PATH)):\n",
    "\twith open(file_path, 'r') as file:\n",
    "\t\tsessions = json.load(file)\n",
    "\treturn sessions\n",
    "\n",
    "sessions = read_json()\n",
    "print(sessions['Boost Spotify bio'])"
   ]
  },
  {
   "cell_type": "markdown",
   "metadata": {},
   "source": [
    "## DO THIS ONE TIME, TO INITIALISE DATABASE"
   ]
  },
  {
   "cell_type": "code",
   "execution_count": 17,
   "metadata": {},
   "outputs": [
    {
     "data": {
      "text/plain": [
       "True"
      ]
     },
     "execution_count": 17,
     "metadata": {},
     "output_type": "execute_result"
    }
   ],
   "source": [
    "COLLECTION_NAME=os.getenv(\"COLLECTION_NAME\")\n",
    "\n",
    "# Creates qdrant vector database instance\n",
    "qdrant_client.create_collection(\n",
    "    collection_name=COLLECTION_NAME,\n",
    "    vectors_config=models.VectorParams(size=1536, distance=models.Distance.COSINE)\n",
    ")"
   ]
  },
  {
   "cell_type": "code",
   "execution_count": 18,
   "metadata": {},
   "outputs": [],
   "source": [
    "# Convert the session metadata into embeddings\n",
    "session_embeddings = {}\n",
    "\n",
    "# Iterate through each session\n",
    "for session_name, session_data in sessions.items():\n",
    "\t# Convert session data to string for embedding\n",
    "\tsession_text = f\"\"\"\n",
    "\tCategory: {session_data['category']}\n",
    "\tKeywords: {', '.join(session_data['keywords'])}\n",
    "\tSummary: {session_data['summary']}\n",
    "\tTarget Audience: {session_data['intended_target_audience']['demographic']}\n",
    "\tInterests: {', '.join(session_data['intended_target_audience']['interests'])}\n",
    "\tPreferences: {', '.join(session_data['intended_target_audience']['preferences'])}\n",
    "\t\"\"\"\n",
    "\t\n",
    "\t# Get embedding\n",
    "\tembedding = text_to_embedding(session_text)\n",
    "\n",
    "\t# Store result\n",
    "\tsession_embeddings[session_name] = {\n",
    "\t\t'id': session_data['id'],\n",
    "\t\t'metadata': {\n",
    "\t\t\t'category': session_data['category'],\n",
    "\t\t\t'keywords': session_data['keywords'],\n",
    "      'summary': session_data['summary'],\n",
    "      'intended_target_audience': session_data['intended_target_audience'],\n",
    "      'interests': session_data['intended_target_audience']['interests'],\n",
    "\t\t\t'preferences': session_data['intended_target_audience']['preferences']\n",
    "    },\n",
    "\t\t'embedding': embedding\n",
    "\t}\n",
    "\n",
    "# Upload vector embeddings into QDRANT DB\n",
    "from datetime import datetime\n",
    "\n",
    "for idx, (session_name, session_data) in  enumerate(session_embeddings.items()):\n",
    "\tqdrant_client.upsert(\n",
    "\t\tcollection_name=os.getenv(\"COLLECTION_NAME\"),\n",
    "\t\tpoints=[\n",
    "\t\t\tmodels.PointStruct(\n",
    "\t\t\t\tid=idx,\n",
    "\t\t\t\tpayload={\n",
    "\t\t\t\t\t\"id\": session_data[\"id\"],\n",
    "\t\t\t\t\t\"session_name\":session_name,\n",
    "\t\t\t\t\t\"metadata\":session_data[\"metadata\"],\n",
    "\t\t\t\t\t\"created_at\":datetime.now().isoformat()\n",
    "\t\t\t\t},\n",
    "\t\t\t\tvector=session_data[\"embedding\"]\n",
    "\t\t\t)\n",
    "\t\t]\n",
    "\t)"
   ]
  },
  {
   "cell_type": "markdown",
   "metadata": {},
   "source": [
    "Now that the vector database has been successfully setup, lets test the similarity of a session with other sessions."
   ]
  },
  {
   "cell_type": "code",
   "execution_count": 15,
   "metadata": {},
   "outputs": [
    {
     "name": "stdout",
     "output_type": "stream",
     "text": [
      "['Boost Spotify bio', 'Create Spotify pitch', 'How 2 claim your Spotify profile', 'Wrapped promo 2024', 'Create label pitch']\n"
     ]
    }
   ],
   "source": [
    "test_prompt = 'The artist wants a session to boost his spotify bio, so that he can gain a larger following on spotify, he also wants to create a press release for his next single, coming out in just 2 weeks.'\n",
    "recommendations = fetch_recommended_sessions(test_prompt)\n",
    "\n",
    "print(recommendations)"
   ]
  }
 ],
 "metadata": {
  "kernelspec": {
   "display_name": "myvenv",
   "language": "python",
   "name": "python3"
  },
  "language_info": {
   "codemirror_mode": {
    "name": "ipython",
    "version": 3
   },
   "file_extension": ".py",
   "mimetype": "text/x-python",
   "name": "python",
   "nbconvert_exporter": "python",
   "pygments_lexer": "ipython3",
   "version": "3.11.0"
  }
 },
 "nbformat": 4,
 "nbformat_minor": 2
}
